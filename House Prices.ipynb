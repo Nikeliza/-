{
  "nbformat": 4,
  "nbformat_minor": 0,
  "metadata": {
    "colab": {
      "name": "Предсказание цен на недвижимость.ipynb",
      "provenance": [],
      "collapsed_sections": [],
      "authorship_tag": "ABX9TyPg52WDei4otTkV8GQEGuCw"
    },
    "kernelspec": {
      "name": "python3",
      "display_name": "Python 3"
    }
  },
  "cells": [
    {
      "cell_type": "code",
      "metadata": {
        "id": "ydoZDidoVDaF"
      },
      "source": [
        "'''\r\n",
        "    SalePrice - цена продажи объекта в долларах. Это целевая переменная, которую вы пытаетесь предсказать.\r\n",
        "    MSSubClass: класс здания\r\n",
        "    MSZoning: Общая классификация зонирования\r\n",
        "    LotFrontage: Линейные ноги улицы, соединенной с участком\r\n",
        "    LotArea: Размер лота в квадратных футах.\r\n",
        "    Street: Тип подъездной дороги\r\n",
        "    Alley: Тип подъезда к аллее\r\n",
        "    LotShape: Общая форма собственности\r\n",
        "    LandContour: Плоскостность собственности\r\n",
        "    Utilities: Тип имеющихся утилит\r\n",
        "    LotConfig: Конфигурация лота\r\n",
        "    LandSlope: склон собственности\r\n",
        "    Neighborhood: Физические места в пределах города Эймс.\r\n",
        "    Condition1: Близость к главной дороге или железной дороге\r\n",
        "    Condition2: Близость к главной дороге или железной дороге (если есть второй)\r\n",
        "    BldgType: Тип жилья\r\n",
        "    HouseStyle: Стиль жилища\r\n",
        "    OverallQual: Общий материал и качество отделки\r\n",
        "    OverallCond: Общая оценка состояния\r\n",
        "    YearBuilt: Дата постройки.\r\n",
        "    YearRemodAdd: Дата реконструкции\r\n",
        "    RoofStyle: Тип крыши\r\n",
        "    RoofMatl: Материал крыши\r\n",
        "    Exterior1st: Внешнее покрытие дома.\r\n",
        "    Exterior2nd: Наружное покрытие дома (если используется более одного материала).\r\n",
        "    MasVnrType: Тип облицовки кладки\r\n",
        "    MasVnrArea: Площадь облицовки кладки в квадратных футах\r\n",
        "    ExterQual: Качество наружных материалов\r\n",
        "    ExterCond: Текущее состояние материала снаружи.\r\n",
        "    Foundation: Тип фундамента\r\n",
        "    BsmtQual: Высота подвала\r\n",
        "    BsmtCond: Общее состояние подвала.\r\n",
        "    BsmtExposure: Подвальные стены на уровне сада или выхода\r\n",
        "    BsmtFinType1: Качество готовой площади подвала\r\n",
        "    BsmtFinSF1: Готовые квадратные футы типа 1\r\n",
        "    BsmtFinType2: Качество второй законченной области (если есть)\r\n",
        "    BsmtFinSF2: Готовые квадратные ножки типа 2\r\n",
        "    BsmtUnfSF: Незавершенные квадратные футы подвала\r\n",
        "    TotalBsmtSF: Общая площадь подвала в квадратных футах\r\n",
        "    Heating: Тип отопления\r\n",
        "    HeatingQC: Качество и состояние отопления\r\n",
        "    CentralAir: Центральное кондиционирование\r\n",
        "    Electrical: электрическая система\r\n",
        "    1stFlrSF: квадратные футы на первом этаже\r\n",
        "    2ndFlrSF: квадратные футы второго этажа\r\n",
        "    LowQualFinSF: квадратные футы с отделкой низкого качества (все этажи)\r\n",
        "    GrLivArea: квадратные футы жилой площади над уровнем земли\r\n",
        "    BsmtFullBath: BПолные ванные комнаты в подвале\r\n",
        "    BsmtHalfBath: полуподвальные ванные комнаты\r\n",
        "    FullBath: Полные ванные комнаты выше уровня\r\n",
        "    HalfBath: Полуванны выше уровня\r\n",
        "    Bedroom:  Количество спален над цокольным этажом\r\n",
        "    Kitchen: Количество кухонь\r\n",
        "    KitchenQual: Качество кухни\r\n",
        "    TotRmsAbvGrd: Общее количество комнат выше уровня (без ванных комнат)\r\n",
        "    Functional: Рейтинг функциональности дома\r\n",
        "    Fireplaces: Количество каминов\r\n",
        "    FireplaceQu: качество камина\r\n",
        "    GarageType:  расположение гаража\r\n",
        "    GarageYrBlt: Год постройки гаража\r\n",
        "    GarageFinish: Внутренняя отделка гаража.\r\n",
        "    GarageCars: Размер гаража по вместимости машины\r\n",
        "    GarageArea: Размер гаража в квадратных футах.\r\n",
        "    GarageQual: качество гаража\r\n",
        "    GarageCond: Состояние гаража\r\n",
        "    PavedDrive: подъездная дорога с твердым покрытием\r\n",
        "    WoodDeckSF: Площадь деревянного настила в квадратных футах\r\n",
        "    OpenPorchSF: Площадь открытой веранды в квадратных футах\r\n",
        "    EnclosedPorch: Площадь крыльца в квадратных футах.\r\n",
        "    3SsnPorch: Площадь крыльца на три сезона в квадратных футах\r\n",
        "    ScreenPorch: Площадь крыльца экрана в квадратных футах\r\n",
        "    PoolArea: Площадь бассейна в квадратных футах.\r\n",
        "    PoolQC: качество бассейна\r\n",
        "    Fence: качество забора\r\n",
        "    MiscFeature: прочие функции, не относящиеся к другим категориям\r\n",
        "    MiscVal: $Value of miscellaneous feature\r\n",
        "    MoSold: Month Sold\r\n",
        "    YrSold: Year Sold\r\n",
        "    SaleType: Type of sale\r\n",
        "    SaleCondition: Condition of sale\r\n",
        "    '''\r\n"
      ],
      "execution_count": null,
      "outputs": []
    },
    {
      "cell_type": "code",
      "metadata": {
        "id": "eNKUcEvEgZEn"
      },
      "source": [
        "import pandas as pd\r\n",
        "import numpy as np"
      ],
      "execution_count": 1,
      "outputs": []
    },
    {
      "cell_type": "code",
      "metadata": {
        "id": "a5qABxl0pGAd"
      },
      "source": [
        "train_data = pd.read_csv(\"train.csv\")\r\n",
        "test_data = pd.read_csv(\"test.csv\")"
      ],
      "execution_count": 2,
      "outputs": []
    },
    {
      "cell_type": "code",
      "metadata": {
        "id": "LAyQMWh4pOx1"
      },
      "source": [
        "all_data = pd.concat([train_data, test_data])"
      ],
      "execution_count": null,
      "outputs": []
    },
    {
      "cell_type": "code",
      "metadata": {
        "colab": {
          "base_uri": "https://localhost:8080/"
        },
        "id": "kgS8Sns5pX2L",
        "outputId": "3dba51ca-76cd-424f-d8d0-fddca877c2f8"
      },
      "source": [
        "train_data.info()"
      ],
      "execution_count": 3,
      "outputs": [
        {
          "output_type": "stream",
          "text": [
            "<class 'pandas.core.frame.DataFrame'>\n",
            "RangeIndex: 1460 entries, 0 to 1459\n",
            "Data columns (total 81 columns):\n",
            " #   Column         Non-Null Count  Dtype  \n",
            "---  ------         --------------  -----  \n",
            " 0   Id             1460 non-null   int64  \n",
            " 1   MSSubClass     1460 non-null   int64  \n",
            " 2   MSZoning       1460 non-null   object \n",
            " 3   LotFrontage    1201 non-null   float64\n",
            " 4   LotArea        1460 non-null   int64  \n",
            " 5   Street         1460 non-null   object \n",
            " 6   Alley          91 non-null     object \n",
            " 7   LotShape       1460 non-null   object \n",
            " 8   LandContour    1460 non-null   object \n",
            " 9   Utilities      1460 non-null   object \n",
            " 10  LotConfig      1460 non-null   object \n",
            " 11  LandSlope      1460 non-null   object \n",
            " 12  Neighborhood   1460 non-null   object \n",
            " 13  Condition1     1460 non-null   object \n",
            " 14  Condition2     1460 non-null   object \n",
            " 15  BldgType       1460 non-null   object \n",
            " 16  HouseStyle     1460 non-null   object \n",
            " 17  OverallQual    1460 non-null   int64  \n",
            " 18  OverallCond    1460 non-null   int64  \n",
            " 19  YearBuilt      1460 non-null   int64  \n",
            " 20  YearRemodAdd   1460 non-null   int64  \n",
            " 21  RoofStyle      1460 non-null   object \n",
            " 22  RoofMatl       1460 non-null   object \n",
            " 23  Exterior1st    1460 non-null   object \n",
            " 24  Exterior2nd    1460 non-null   object \n",
            " 25  MasVnrType     1452 non-null   object \n",
            " 26  MasVnrArea     1452 non-null   float64\n",
            " 27  ExterQual      1460 non-null   object \n",
            " 28  ExterCond      1460 non-null   object \n",
            " 29  Foundation     1460 non-null   object \n",
            " 30  BsmtQual       1423 non-null   object \n",
            " 31  BsmtCond       1423 non-null   object \n",
            " 32  BsmtExposure   1422 non-null   object \n",
            " 33  BsmtFinType1   1423 non-null   object \n",
            " 34  BsmtFinSF1     1460 non-null   int64  \n",
            " 35  BsmtFinType2   1422 non-null   object \n",
            " 36  BsmtFinSF2     1460 non-null   int64  \n",
            " 37  BsmtUnfSF      1460 non-null   int64  \n",
            " 38  TotalBsmtSF    1460 non-null   int64  \n",
            " 39  Heating        1460 non-null   object \n",
            " 40  HeatingQC      1460 non-null   object \n",
            " 41  CentralAir     1460 non-null   object \n",
            " 42  Electrical     1459 non-null   object \n",
            " 43  1stFlrSF       1460 non-null   int64  \n",
            " 44  2ndFlrSF       1460 non-null   int64  \n",
            " 45  LowQualFinSF   1460 non-null   int64  \n",
            " 46  GrLivArea      1460 non-null   int64  \n",
            " 47  BsmtFullBath   1460 non-null   int64  \n",
            " 48  BsmtHalfBath   1460 non-null   int64  \n",
            " 49  FullBath       1460 non-null   int64  \n",
            " 50  HalfBath       1460 non-null   int64  \n",
            " 51  BedroomAbvGr   1460 non-null   int64  \n",
            " 52  KitchenAbvGr   1460 non-null   int64  \n",
            " 53  KitchenQual    1460 non-null   object \n",
            " 54  TotRmsAbvGrd   1460 non-null   int64  \n",
            " 55  Functional     1460 non-null   object \n",
            " 56  Fireplaces     1460 non-null   int64  \n",
            " 57  FireplaceQu    770 non-null    object \n",
            " 58  GarageType     1379 non-null   object \n",
            " 59  GarageYrBlt    1379 non-null   float64\n",
            " 60  GarageFinish   1379 non-null   object \n",
            " 61  GarageCars     1460 non-null   int64  \n",
            " 62  GarageArea     1460 non-null   int64  \n",
            " 63  GarageQual     1379 non-null   object \n",
            " 64  GarageCond     1379 non-null   object \n",
            " 65  PavedDrive     1460 non-null   object \n",
            " 66  WoodDeckSF     1460 non-null   int64  \n",
            " 67  OpenPorchSF    1460 non-null   int64  \n",
            " 68  EnclosedPorch  1460 non-null   int64  \n",
            " 69  3SsnPorch      1460 non-null   int64  \n",
            " 70  ScreenPorch    1460 non-null   int64  \n",
            " 71  PoolArea       1460 non-null   int64  \n",
            " 72  PoolQC         7 non-null      object \n",
            " 73  Fence          281 non-null    object \n",
            " 74  MiscFeature    54 non-null     object \n",
            " 75  MiscVal        1460 non-null   int64  \n",
            " 76  MoSold         1460 non-null   int64  \n",
            " 77  YrSold         1460 non-null   int64  \n",
            " 78  SaleType       1460 non-null   object \n",
            " 79  SaleCondition  1460 non-null   object \n",
            " 80  SalePrice      1460 non-null   int64  \n",
            "dtypes: float64(3), int64(35), object(43)\n",
            "memory usage: 924.0+ KB\n"
          ],
          "name": "stdout"
        }
      ]
    },
    {
      "cell_type": "code",
      "metadata": {
        "id": "BQtxnszxqOCQ"
      },
      "source": [
        "my_fields = ['MSSubClass', \r\n",
        "             'LotArea',\r\n",
        "             ##'BldgType',\r\n",
        "             ##'HouseStyle',\r\n",
        "             'YearBuilt',\r\n",
        "             'YearRemodAdd',\r\n",
        "             ##'RoofStyle',\r\n",
        "             ##'RoofMatl',\r\n",
        "             ##'Foundation',\r\n",
        "             #'BsmtQual',\r\n",
        "             #'BsmtCond',\r\n",
        "             ##'Heating',\r\n",
        "             ##'HeatingQC',\r\n",
        "             #'Electrical',\r\n",
        "             'BedroomAbvGr',\r\n",
        "             'KitchenAbvGr',\r\n",
        "             ##'KitchenQual',\r\n",
        "             'TotRmsAbvGrd',\r\n",
        "             'Fireplaces',\r\n",
        "             #'FireplaceQu',\r\n",
        "             #'GarageType',\r\n",
        "             #'GarageYrBlt',\r\n",
        "             #'GarageCond',\r\n",
        "             'EnclosedPorch',\r\n",
        "             'PoolArea',\r\n",
        "             #'PoolQC',\r\n",
        "             #'Fence',\r\n",
        "             'MoSold',\r\n",
        "             'YrSold',\r\n",
        "             ##'SaleType',\r\n",
        "             ##'SaleCondition',\r\n",
        "             'SalePrice',]"
      ],
      "execution_count": 34,
      "outputs": []
    },
    {
      "cell_type": "code",
      "metadata": {
        "id": "iXd-5F6Asp6_"
      },
      "source": [
        "new_train_data = train_data[my_fields]"
      ],
      "execution_count": 35,
      "outputs": []
    },
    {
      "cell_type": "code",
      "metadata": {
        "colab": {
          "base_uri": "https://localhost:8080/"
        },
        "id": "Rv0P-z3Kp09W",
        "outputId": "965da3a4-3d33-461a-dda1-fe9d735612f2"
      },
      "source": [
        "new_train_data.info()"
      ],
      "execution_count": 36,
      "outputs": [
        {
          "output_type": "stream",
          "text": [
            "<class 'pandas.core.frame.DataFrame'>\n",
            "RangeIndex: 1460 entries, 0 to 1459\n",
            "Data columns (total 13 columns):\n",
            " #   Column         Non-Null Count  Dtype\n",
            "---  ------         --------------  -----\n",
            " 0   MSSubClass     1460 non-null   int64\n",
            " 1   LotArea        1460 non-null   int64\n",
            " 2   YearBuilt      1460 non-null   int64\n",
            " 3   YearRemodAdd   1460 non-null   int64\n",
            " 4   BedroomAbvGr   1460 non-null   int64\n",
            " 5   KitchenAbvGr   1460 non-null   int64\n",
            " 6   TotRmsAbvGrd   1460 non-null   int64\n",
            " 7   Fireplaces     1460 non-null   int64\n",
            " 8   EnclosedPorch  1460 non-null   int64\n",
            " 9   PoolArea       1460 non-null   int64\n",
            " 10  MoSold         1460 non-null   int64\n",
            " 11  YrSold         1460 non-null   int64\n",
            " 12  SalePrice      1460 non-null   int64\n",
            "dtypes: int64(13)\n",
            "memory usage: 148.4 KB\n"
          ],
          "name": "stdout"
        }
      ]
    },
    {
      "cell_type": "code",
      "metadata": {
        "id": "4jsYFyJbs4ER"
      },
      "source": [
        "from sklearn import linear_model, ensemble"
      ],
      "execution_count": 37,
      "outputs": []
    },
    {
      "cell_type": "code",
      "metadata": {
        "id": "UMXjIvQztVcR"
      },
      "source": [
        "linear_regression_model = linear_model.LinearRegression() # создаем модель"
      ],
      "execution_count": 52,
      "outputs": []
    },
    {
      "cell_type": "code",
      "metadata": {
        "id": "fTwE0Oceta7r"
      },
      "source": [
        "random_forest_model = ensemble.RandomForestRegressor()"
      ],
      "execution_count": 44,
      "outputs": []
    },
    {
      "cell_type": "code",
      "metadata": {
        "id": "C-IK97eMtdQy"
      },
      "source": [
        "training_values = new_train_data['SalePrice']\r\n",
        "training_points = new_train_data.drop('SalePrice', axis=1)"
      ],
      "execution_count": 40,
      "outputs": []
    },
    {
      "cell_type": "code",
      "metadata": {
        "colab": {
          "base_uri": "https://localhost:8080/",
          "height": 206
        },
        "id": "9pW-P40Atw2C",
        "outputId": "15ac478c-2319-4c2b-c015-ef56a7fea804"
      },
      "source": [
        "training_points.head()"
      ],
      "execution_count": 41,
      "outputs": [
        {
          "output_type": "execute_result",
          "data": {
            "text/html": [
              "<div>\n",
              "<style scoped>\n",
              "    .dataframe tbody tr th:only-of-type {\n",
              "        vertical-align: middle;\n",
              "    }\n",
              "\n",
              "    .dataframe tbody tr th {\n",
              "        vertical-align: top;\n",
              "    }\n",
              "\n",
              "    .dataframe thead th {\n",
              "        text-align: right;\n",
              "    }\n",
              "</style>\n",
              "<table border=\"1\" class=\"dataframe\">\n",
              "  <thead>\n",
              "    <tr style=\"text-align: right;\">\n",
              "      <th></th>\n",
              "      <th>MSSubClass</th>\n",
              "      <th>LotArea</th>\n",
              "      <th>YearBuilt</th>\n",
              "      <th>YearRemodAdd</th>\n",
              "      <th>BedroomAbvGr</th>\n",
              "      <th>KitchenAbvGr</th>\n",
              "      <th>TotRmsAbvGrd</th>\n",
              "      <th>Fireplaces</th>\n",
              "      <th>EnclosedPorch</th>\n",
              "      <th>PoolArea</th>\n",
              "      <th>MoSold</th>\n",
              "      <th>YrSold</th>\n",
              "    </tr>\n",
              "  </thead>\n",
              "  <tbody>\n",
              "    <tr>\n",
              "      <th>0</th>\n",
              "      <td>60</td>\n",
              "      <td>8450</td>\n",
              "      <td>2003</td>\n",
              "      <td>2003</td>\n",
              "      <td>3</td>\n",
              "      <td>1</td>\n",
              "      <td>8</td>\n",
              "      <td>0</td>\n",
              "      <td>0</td>\n",
              "      <td>0</td>\n",
              "      <td>2</td>\n",
              "      <td>2008</td>\n",
              "    </tr>\n",
              "    <tr>\n",
              "      <th>1</th>\n",
              "      <td>20</td>\n",
              "      <td>9600</td>\n",
              "      <td>1976</td>\n",
              "      <td>1976</td>\n",
              "      <td>3</td>\n",
              "      <td>1</td>\n",
              "      <td>6</td>\n",
              "      <td>1</td>\n",
              "      <td>0</td>\n",
              "      <td>0</td>\n",
              "      <td>5</td>\n",
              "      <td>2007</td>\n",
              "    </tr>\n",
              "    <tr>\n",
              "      <th>2</th>\n",
              "      <td>60</td>\n",
              "      <td>11250</td>\n",
              "      <td>2001</td>\n",
              "      <td>2002</td>\n",
              "      <td>3</td>\n",
              "      <td>1</td>\n",
              "      <td>6</td>\n",
              "      <td>1</td>\n",
              "      <td>0</td>\n",
              "      <td>0</td>\n",
              "      <td>9</td>\n",
              "      <td>2008</td>\n",
              "    </tr>\n",
              "    <tr>\n",
              "      <th>3</th>\n",
              "      <td>70</td>\n",
              "      <td>9550</td>\n",
              "      <td>1915</td>\n",
              "      <td>1970</td>\n",
              "      <td>3</td>\n",
              "      <td>1</td>\n",
              "      <td>7</td>\n",
              "      <td>1</td>\n",
              "      <td>272</td>\n",
              "      <td>0</td>\n",
              "      <td>2</td>\n",
              "      <td>2006</td>\n",
              "    </tr>\n",
              "    <tr>\n",
              "      <th>4</th>\n",
              "      <td>60</td>\n",
              "      <td>14260</td>\n",
              "      <td>2000</td>\n",
              "      <td>2000</td>\n",
              "      <td>4</td>\n",
              "      <td>1</td>\n",
              "      <td>9</td>\n",
              "      <td>1</td>\n",
              "      <td>0</td>\n",
              "      <td>0</td>\n",
              "      <td>12</td>\n",
              "      <td>2008</td>\n",
              "    </tr>\n",
              "  </tbody>\n",
              "</table>\n",
              "</div>"
            ],
            "text/plain": [
              "   MSSubClass  LotArea  YearBuilt  ...  PoolArea  MoSold  YrSold\n",
              "0          60     8450       2003  ...         0       2    2008\n",
              "1          20     9600       1976  ...         0       5    2007\n",
              "2          60    11250       2001  ...         0       9    2008\n",
              "3          70     9550       1915  ...         0       2    2006\n",
              "4          60    14260       2000  ...         0      12    2008\n",
              "\n",
              "[5 rows x 12 columns]"
            ]
          },
          "metadata": {
            "tags": []
          },
          "execution_count": 41
        }
      ]
    },
    {
      "cell_type": "code",
      "metadata": {
        "id": "qVidMJ15wLcV"
      },
      "source": [
        "from sklearn.model_selection import StratifiedKFold\r\n",
        "from sklearn.model_selection import cross_val_score"
      ],
      "execution_count": 46,
      "outputs": []
    },
    {
      "cell_type": "code",
      "metadata": {
        "id": "qWqPDP4rwxKA"
      },
      "source": [
        "from sklearn import metrics\r\n"
      ],
      "execution_count": 50,
      "outputs": []
    },
    {
      "cell_type": "code",
      "metadata": {
        "id": "ZYTOSuEivgTz"
      },
      "source": [
        "cv = StratifiedKFold(n_splits=2, shuffle=True, random_state=1)"
      ],
      "execution_count": 47,
      "outputs": []
    },
    {
      "cell_type": "code",
      "metadata": {
        "colab": {
          "base_uri": "https://localhost:8080/"
        },
        "id": "U0y_2YZTt_oL",
        "outputId": "aca3db64-e06d-4449-e60e-eefe5df4b45e"
      },
      "source": [
        "def linear_scorer(estimator, x, y):\r\n",
        "    scorer_predictions = estimator.predict(x)\r\n",
        "\r\n",
        "    scorer_predictions[scorer_predictions > 0.5] = 1\r\n",
        "    scorer_predictions[scorer_predictions <= 0.5] = 0\r\n",
        "\r\n",
        "    return metrics.accuracy_score(y, scorer_predictions)\r\n",
        "\r\n",
        "scores = cross_val_score(linear_regression_model, training_points, training_values, cv=cv, n_jobs=-1)\r\n",
        "print(\"Accuracy (linear regression): {}/{}\".format(scores.mean(), scores.std()))\r\n"
      ],
      "execution_count": 53,
      "outputs": [
        {
          "output_type": "stream",
          "text": [
            "/usr/local/lib/python3.6/dist-packages/sklearn/model_selection/_split.py:667: UserWarning: The least populated class in y has only 1 members, which is less than n_splits=2.\n",
            "  % (min_groups, self.n_splits)), UserWarning)\n"
          ],
          "name": "stderr"
        },
        {
          "output_type": "stream",
          "text": [
            "Accuracy (linear regression): 0.5963768528759286/0.033422921588742494\n"
          ],
          "name": "stdout"
        }
      ]
    },
    {
      "cell_type": "code",
      "metadata": {
        "colab": {
          "base_uri": "https://localhost:8080/"
        },
        "id": "clIwUF25uFG6",
        "outputId": "c1bdcd39-713e-4669-a590-e4e752f3cdf7"
      },
      "source": [
        "scores = cross_val_score(random_forest_model, training_points, training_values, cv=cv, n_jobs=-1)\r\n",
        "print(\"Accuracy (random forest): {}/{}\".format(scores.mean(), scores.std()))\r\n"
      ],
      "execution_count": 48,
      "outputs": [
        {
          "output_type": "stream",
          "text": [
            "/usr/local/lib/python3.6/dist-packages/sklearn/model_selection/_split.py:667: UserWarning: The least populated class in y has only 1 members, which is less than n_splits=2.\n",
            "  % (min_groups, self.n_splits)), UserWarning)\n"
          ],
          "name": "stderr"
        },
        {
          "output_type": "stream",
          "text": [
            "Accuracy (random forest): 0.6914806124339435/0.021212252083873895\n"
          ],
          "name": "stdout"
        }
      ]
    },
    {
      "cell_type": "code",
      "metadata": {
        "id": "FlM4mwDFutt9"
      },
      "source": [
        ""
      ],
      "execution_count": null,
      "outputs": []
    }
  ]
}